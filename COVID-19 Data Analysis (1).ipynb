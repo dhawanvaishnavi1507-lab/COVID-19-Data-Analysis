{
 "cells": [
  {
   "cell_type": "markdown",
   "id": "9b561ad5-6d96-4c62-b1e9-7a235c541842",
   "metadata": {},
   "source": [
    "Introduction"
   ]
  },
  {
   "cell_type": "markdown",
   "id": "e940c22d-7895-4539-97ff-cff49163655e",
   "metadata": {},
   "source": [
    "What is COVID-19?\n",
    "\n",
    "COVID-19 (Coronavirus Disease 2019) is an infectious disease caused by the SARS-CoV-2 virus. It was first identified in December 2019 in Wuhan, China, and quickly spread across the globe, leading to a worldwide pandemic. Symptoms range from mild (fever, cough, fatigue) to severe (pneumonia, respiratory failure), and the disease has had major impacts on health systems, economies, and daily life.\n",
    "\n",
    "Why Analyze COVID-19 Data?\n",
    "\n",
    "Analyzing COVID-19 data helps us understand how the disease has spread, how different countries responded, and what trends emerged over time. By studying this data, we can see patterns in case numbers, deaths, recovery rates. Such analysis is useful for researchers, governments, and the general public to make informed decisions and prepare for future health crises.\n",
    "\n",
    "Objectives of the Project:\n",
    "\n",
    "Explore trends in COVID-19 cases and deaths over time.\n",
    "\n",
    "Visualize patterns using graphs and charts for better understanding.\n",
    "\n",
    "Identify peaks and declines in the pandemic across regions."
   ]
  },
  {
   "cell_type": "markdown",
   "id": "9a092bcf-1ce4-4824-8c01-4b0ddf8ccd07",
   "metadata": {},
   "source": [
    "Dataset Information"
   ]
  },
  {
   "cell_type": "markdown",
   "id": "e6c8ca26-e24e-4426-818d-34bc2775d218",
   "metadata": {},
   "source": [
    "Source: Kaggle COVID-19 Dataset\n",
    "\n",
    "Description: This dataset contains daily COVID-19 case reports from various countries and regions worldwide, starting from January 22, 2020.\n",
    "\n",
    "Columns:\n",
    "\n",
    "1.SNo – Serial number of the record.\n",
    "\n",
    "2.ObservationDate – Date of the observation in MM/DD/YYYY format.\n",
    "\n",
    "3.Province/State – Province, state, or region name (if applicable, else may be blank).\n",
    "\n",
    "4.Country/Region – Name of the country or region.\n",
    "\n",
    "5.Last Update – The timestamp of the last update for the record.\n",
    "\n",
    "6.Confirmed – Cumulative number of confirmed COVID-19 cases.\n",
    "\n",
    "7.Deaths – Cumulative number of deaths due to COVID-19.\n",
    "\n",
    "8.Recovered – Cumulative number of recovered patients."
   ]
  },
  {
   "cell_type": "markdown",
   "id": "65bbce3b-a93d-47d1-a0e1-a10d805cc766",
   "metadata": {},
   "source": [
    "Import Libraries"
   ]
  },
  {
   "cell_type": "code",
   "execution_count": 2,
   "id": "f4b5b207-ed9a-426e-8f5f-e526a67e932c",
   "metadata": {},
   "outputs": [],
   "source": [
    "import pandas as pd\n",
    "import matplotlib.pyplot as plt\n",
    "import seaborn as sns"
   ]
  },
  {
   "cell_type": "markdown",
   "id": "b723894b-287a-4294-9c2b-f763e93ac602",
   "metadata": {},
   "source": [
    "Load Dataset"
   ]
  },
  {
   "cell_type": "code",
   "execution_count": 3,
   "id": "0cfb34ac-0679-4883-a654-1d03b7deb102",
   "metadata": {},
   "outputs": [],
   "source": [
    "import os"
   ]
  },
  {
   "cell_type": "code",
   "execution_count": 4,
   "id": "706476b3-70a1-4d42-aa87-cefbfbee94e5",
   "metadata": {},
   "outputs": [
    {
     "data": {
      "text/plain": [
       "'C:\\\\Users\\\\v'"
      ]
     },
     "execution_count": 4,
     "metadata": {},
     "output_type": "execute_result"
    }
   ],
   "source": [
    "os.getcwd()"
   ]
  },
  {
   "cell_type": "code",
   "execution_count": 5,
   "id": "4c61253d-ab59-4796-a521-c6db0fe71df5",
   "metadata": {},
   "outputs": [],
   "source": [
    "os.chdir(\"C:\\\\Users\\\\v\\\\Desktop\")"
   ]
  },
  {
   "cell_type": "code",
   "execution_count": 6,
   "id": "e3fbb0d8-f20c-4b02-b1c6-6b27bd0b291e",
   "metadata": {},
   "outputs": [
    {
     "data": {
      "text/plain": [
       "'C:\\\\Users\\\\v\\\\Desktop'"
      ]
     },
     "execution_count": 6,
     "metadata": {},
     "output_type": "execute_result"
    }
   ],
   "source": [
    "os.getcwd()"
   ]
  },
  {
   "cell_type": "code",
   "execution_count": 7,
   "id": "21116658-993d-44c8-b42b-6bb1838c04f5",
   "metadata": {},
   "outputs": [],
   "source": [
    "df = pd.read_csv(\"covid_19_data.csv\")"
   ]
  },
  {
   "cell_type": "code",
   "execution_count": 8,
   "id": "bb509bf1-fc98-49d4-81d3-e79a1862e3fb",
   "metadata": {},
   "outputs": [
    {
     "data": {
      "text/html": [
       "<div>\n",
       "<style scoped>\n",
       "    .dataframe tbody tr th:only-of-type {\n",
       "        vertical-align: middle;\n",
       "    }\n",
       "\n",
       "    .dataframe tbody tr th {\n",
       "        vertical-align: top;\n",
       "    }\n",
       "\n",
       "    .dataframe thead th {\n",
       "        text-align: right;\n",
       "    }\n",
       "</style>\n",
       "<table border=\"1\" class=\"dataframe\">\n",
       "  <thead>\n",
       "    <tr style=\"text-align: right;\">\n",
       "      <th></th>\n",
       "      <th>SNo</th>\n",
       "      <th>ObservationDate</th>\n",
       "      <th>Province/State</th>\n",
       "      <th>Country/Region</th>\n",
       "      <th>Last Update</th>\n",
       "      <th>Confirmed</th>\n",
       "      <th>Deaths</th>\n",
       "      <th>Recovered</th>\n",
       "    </tr>\n",
       "  </thead>\n",
       "  <tbody>\n",
       "    <tr>\n",
       "      <th>0</th>\n",
       "      <td>1</td>\n",
       "      <td>01/22/2020</td>\n",
       "      <td>Anhui</td>\n",
       "      <td>Mainland China</td>\n",
       "      <td>1/22/2020 17:00</td>\n",
       "      <td>1.0</td>\n",
       "      <td>0.0</td>\n",
       "      <td>0.0</td>\n",
       "    </tr>\n",
       "    <tr>\n",
       "      <th>1</th>\n",
       "      <td>2</td>\n",
       "      <td>01/22/2020</td>\n",
       "      <td>Beijing</td>\n",
       "      <td>Mainland China</td>\n",
       "      <td>1/22/2020 17:00</td>\n",
       "      <td>14.0</td>\n",
       "      <td>0.0</td>\n",
       "      <td>0.0</td>\n",
       "    </tr>\n",
       "    <tr>\n",
       "      <th>2</th>\n",
       "      <td>3</td>\n",
       "      <td>01/22/2020</td>\n",
       "      <td>Chongqing</td>\n",
       "      <td>Mainland China</td>\n",
       "      <td>1/22/2020 17:00</td>\n",
       "      <td>6.0</td>\n",
       "      <td>0.0</td>\n",
       "      <td>0.0</td>\n",
       "    </tr>\n",
       "    <tr>\n",
       "      <th>3</th>\n",
       "      <td>4</td>\n",
       "      <td>01/22/2020</td>\n",
       "      <td>Fujian</td>\n",
       "      <td>Mainland China</td>\n",
       "      <td>1/22/2020 17:00</td>\n",
       "      <td>1.0</td>\n",
       "      <td>0.0</td>\n",
       "      <td>0.0</td>\n",
       "    </tr>\n",
       "    <tr>\n",
       "      <th>4</th>\n",
       "      <td>5</td>\n",
       "      <td>01/22/2020</td>\n",
       "      <td>Gansu</td>\n",
       "      <td>Mainland China</td>\n",
       "      <td>1/22/2020 17:00</td>\n",
       "      <td>0.0</td>\n",
       "      <td>0.0</td>\n",
       "      <td>0.0</td>\n",
       "    </tr>\n",
       "    <tr>\n",
       "      <th>...</th>\n",
       "      <td>...</td>\n",
       "      <td>...</td>\n",
       "      <td>...</td>\n",
       "      <td>...</td>\n",
       "      <td>...</td>\n",
       "      <td>...</td>\n",
       "      <td>...</td>\n",
       "      <td>...</td>\n",
       "    </tr>\n",
       "    <tr>\n",
       "      <th>306424</th>\n",
       "      <td>306425</td>\n",
       "      <td>05/29/2021</td>\n",
       "      <td>Zaporizhia Oblast</td>\n",
       "      <td>Ukraine</td>\n",
       "      <td>2021-05-30 04:20:55</td>\n",
       "      <td>102641.0</td>\n",
       "      <td>2335.0</td>\n",
       "      <td>95289.0</td>\n",
       "    </tr>\n",
       "    <tr>\n",
       "      <th>306425</th>\n",
       "      <td>306426</td>\n",
       "      <td>05/29/2021</td>\n",
       "      <td>Zeeland</td>\n",
       "      <td>Netherlands</td>\n",
       "      <td>2021-05-30 04:20:55</td>\n",
       "      <td>29147.0</td>\n",
       "      <td>245.0</td>\n",
       "      <td>0.0</td>\n",
       "    </tr>\n",
       "    <tr>\n",
       "      <th>306426</th>\n",
       "      <td>306427</td>\n",
       "      <td>05/29/2021</td>\n",
       "      <td>Zhejiang</td>\n",
       "      <td>Mainland China</td>\n",
       "      <td>2021-05-30 04:20:55</td>\n",
       "      <td>1364.0</td>\n",
       "      <td>1.0</td>\n",
       "      <td>1324.0</td>\n",
       "    </tr>\n",
       "    <tr>\n",
       "      <th>306427</th>\n",
       "      <td>306428</td>\n",
       "      <td>05/29/2021</td>\n",
       "      <td>Zhytomyr Oblast</td>\n",
       "      <td>Ukraine</td>\n",
       "      <td>2021-05-30 04:20:55</td>\n",
       "      <td>87550.0</td>\n",
       "      <td>1738.0</td>\n",
       "      <td>83790.0</td>\n",
       "    </tr>\n",
       "    <tr>\n",
       "      <th>306428</th>\n",
       "      <td>306429</td>\n",
       "      <td>05/29/2021</td>\n",
       "      <td>Zuid-Holland</td>\n",
       "      <td>Netherlands</td>\n",
       "      <td>2021-05-30 04:20:55</td>\n",
       "      <td>391559.0</td>\n",
       "      <td>4252.0</td>\n",
       "      <td>0.0</td>\n",
       "    </tr>\n",
       "  </tbody>\n",
       "</table>\n",
       "<p>306429 rows × 8 columns</p>\n",
       "</div>"
      ],
      "text/plain": [
       "           SNo ObservationDate     Province/State  Country/Region  \\\n",
       "0            1      01/22/2020              Anhui  Mainland China   \n",
       "1            2      01/22/2020            Beijing  Mainland China   \n",
       "2            3      01/22/2020          Chongqing  Mainland China   \n",
       "3            4      01/22/2020             Fujian  Mainland China   \n",
       "4            5      01/22/2020              Gansu  Mainland China   \n",
       "...        ...             ...                ...             ...   \n",
       "306424  306425      05/29/2021  Zaporizhia Oblast         Ukraine   \n",
       "306425  306426      05/29/2021            Zeeland     Netherlands   \n",
       "306426  306427      05/29/2021           Zhejiang  Mainland China   \n",
       "306427  306428      05/29/2021    Zhytomyr Oblast         Ukraine   \n",
       "306428  306429      05/29/2021       Zuid-Holland     Netherlands   \n",
       "\n",
       "                Last Update  Confirmed  Deaths  Recovered  \n",
       "0           1/22/2020 17:00        1.0     0.0        0.0  \n",
       "1           1/22/2020 17:00       14.0     0.0        0.0  \n",
       "2           1/22/2020 17:00        6.0     0.0        0.0  \n",
       "3           1/22/2020 17:00        1.0     0.0        0.0  \n",
       "4           1/22/2020 17:00        0.0     0.0        0.0  \n",
       "...                     ...        ...     ...        ...  \n",
       "306424  2021-05-30 04:20:55   102641.0  2335.0    95289.0  \n",
       "306425  2021-05-30 04:20:55    29147.0   245.0        0.0  \n",
       "306426  2021-05-30 04:20:55     1364.0     1.0     1324.0  \n",
       "306427  2021-05-30 04:20:55    87550.0  1738.0    83790.0  \n",
       "306428  2021-05-30 04:20:55   391559.0  4252.0        0.0  \n",
       "\n",
       "[306429 rows x 8 columns]"
      ]
     },
     "execution_count": 8,
     "metadata": {},
     "output_type": "execute_result"
    }
   ],
   "source": [
    "df"
   ]
  },
  {
   "cell_type": "markdown",
   "id": "471d3874-46fe-4ecf-8d38-f0454f12d32b",
   "metadata": {},
   "source": [
    "Data cleaning"
   ]
  },
  {
   "cell_type": "code",
   "execution_count": 9,
   "id": "70a06f06-be79-4221-bb78-52796e821b24",
   "metadata": {},
   "outputs": [
    {
     "name": "stdout",
     "output_type": "stream",
     "text": [
      "<class 'pandas.core.frame.DataFrame'>\n",
      "RangeIndex: 306429 entries, 0 to 306428\n",
      "Data columns (total 8 columns):\n",
      " #   Column           Non-Null Count   Dtype  \n",
      "---  ------           --------------   -----  \n",
      " 0   SNo              306429 non-null  int64  \n",
      " 1   ObservationDate  306429 non-null  object \n",
      " 2   Province/State   228326 non-null  object \n",
      " 3   Country/Region   306429 non-null  object \n",
      " 4   Last Update      306429 non-null  object \n",
      " 5   Confirmed        306429 non-null  float64\n",
      " 6   Deaths           306429 non-null  float64\n",
      " 7   Recovered        306429 non-null  float64\n",
      "dtypes: float64(3), int64(1), object(4)\n",
      "memory usage: 18.7+ MB\n"
     ]
    }
   ],
   "source": [
    "df.info()  "
   ]
  },
  {
   "cell_type": "code",
   "execution_count": 10,
   "id": "3fa9c93b-4dae-447c-b465-754c9fc4ecf6",
   "metadata": {},
   "outputs": [
    {
     "data": {
      "text/html": [
       "<div>\n",
       "<style scoped>\n",
       "    .dataframe tbody tr th:only-of-type {\n",
       "        vertical-align: middle;\n",
       "    }\n",
       "\n",
       "    .dataframe tbody tr th {\n",
       "        vertical-align: top;\n",
       "    }\n",
       "\n",
       "    .dataframe thead th {\n",
       "        text-align: right;\n",
       "    }\n",
       "</style>\n",
       "<table border=\"1\" class=\"dataframe\">\n",
       "  <thead>\n",
       "    <tr style=\"text-align: right;\">\n",
       "      <th></th>\n",
       "      <th>SNo</th>\n",
       "      <th>Confirmed</th>\n",
       "      <th>Deaths</th>\n",
       "      <th>Recovered</th>\n",
       "    </tr>\n",
       "  </thead>\n",
       "  <tbody>\n",
       "    <tr>\n",
       "      <th>count</th>\n",
       "      <td>306429.000000</td>\n",
       "      <td>3.064290e+05</td>\n",
       "      <td>306429.000000</td>\n",
       "      <td>3.064290e+05</td>\n",
       "    </tr>\n",
       "    <tr>\n",
       "      <th>mean</th>\n",
       "      <td>153215.000000</td>\n",
       "      <td>8.567091e+04</td>\n",
       "      <td>2036.403268</td>\n",
       "      <td>5.042029e+04</td>\n",
       "    </tr>\n",
       "    <tr>\n",
       "      <th>std</th>\n",
       "      <td>88458.577156</td>\n",
       "      <td>2.775516e+05</td>\n",
       "      <td>6410.938048</td>\n",
       "      <td>2.015124e+05</td>\n",
       "    </tr>\n",
       "    <tr>\n",
       "      <th>min</th>\n",
       "      <td>1.000000</td>\n",
       "      <td>-3.028440e+05</td>\n",
       "      <td>-178.000000</td>\n",
       "      <td>-8.544050e+05</td>\n",
       "    </tr>\n",
       "    <tr>\n",
       "      <th>25%</th>\n",
       "      <td>76608.000000</td>\n",
       "      <td>1.042000e+03</td>\n",
       "      <td>13.000000</td>\n",
       "      <td>1.100000e+01</td>\n",
       "    </tr>\n",
       "    <tr>\n",
       "      <th>50%</th>\n",
       "      <td>153215.000000</td>\n",
       "      <td>1.037500e+04</td>\n",
       "      <td>192.000000</td>\n",
       "      <td>1.751000e+03</td>\n",
       "    </tr>\n",
       "    <tr>\n",
       "      <th>75%</th>\n",
       "      <td>229822.000000</td>\n",
       "      <td>5.075200e+04</td>\n",
       "      <td>1322.000000</td>\n",
       "      <td>2.027000e+04</td>\n",
       "    </tr>\n",
       "    <tr>\n",
       "      <th>max</th>\n",
       "      <td>306429.000000</td>\n",
       "      <td>5.863138e+06</td>\n",
       "      <td>112385.000000</td>\n",
       "      <td>6.399531e+06</td>\n",
       "    </tr>\n",
       "  </tbody>\n",
       "</table>\n",
       "</div>"
      ],
      "text/plain": [
       "                 SNo     Confirmed         Deaths     Recovered\n",
       "count  306429.000000  3.064290e+05  306429.000000  3.064290e+05\n",
       "mean   153215.000000  8.567091e+04    2036.403268  5.042029e+04\n",
       "std     88458.577156  2.775516e+05    6410.938048  2.015124e+05\n",
       "min         1.000000 -3.028440e+05    -178.000000 -8.544050e+05\n",
       "25%     76608.000000  1.042000e+03      13.000000  1.100000e+01\n",
       "50%    153215.000000  1.037500e+04     192.000000  1.751000e+03\n",
       "75%    229822.000000  5.075200e+04    1322.000000  2.027000e+04\n",
       "max    306429.000000  5.863138e+06  112385.000000  6.399531e+06"
      ]
     },
     "execution_count": 10,
     "metadata": {},
     "output_type": "execute_result"
    }
   ],
   "source": [
    "df.describe()"
   ]
  },
  {
   "cell_type": "code",
   "execution_count": 11,
   "id": "fdc6e259-d074-43be-8fbe-87a644a0bcdd",
   "metadata": {},
   "outputs": [
    {
     "data": {
      "text/plain": [
       "SNo                    0\n",
       "ObservationDate        0\n",
       "Province/State     78103\n",
       "Country/Region         0\n",
       "Last Update            0\n",
       "Confirmed              0\n",
       "Deaths                 0\n",
       "Recovered              0\n",
       "dtype: int64"
      ]
     },
     "execution_count": 11,
     "metadata": {},
     "output_type": "execute_result"
    }
   ],
   "source": [
    "df.isnull().sum() "
   ]
  },
  {
   "cell_type": "code",
   "execution_count": 12,
   "id": "796b1a19-dcd0-4c05-8b5a-329f43d1fde7",
   "metadata": {},
   "outputs": [],
   "source": [
    "df['Province/State'] = df['Province/State'].fillna('Unknown')"
   ]
  },
  {
   "cell_type": "code",
   "execution_count": 13,
   "id": "cd8175ee-e68a-4b53-ac1c-013b8da0ff1d",
   "metadata": {},
   "outputs": [
    {
     "data": {
      "text/plain": [
       "SNo                0\n",
       "ObservationDate    0\n",
       "Province/State     0\n",
       "Country/Region     0\n",
       "Last Update        0\n",
       "Confirmed          0\n",
       "Deaths             0\n",
       "Recovered          0\n",
       "dtype: int64"
      ]
     },
     "execution_count": 13,
     "metadata": {},
     "output_type": "execute_result"
    }
   ],
   "source": [
    "df.isnull().sum() "
   ]
  },
  {
   "cell_type": "code",
   "execution_count": 14,
   "id": "a35d570f-dc44-4f84-87f4-dd0efc0e5095",
   "metadata": {},
   "outputs": [],
   "source": [
    "df.rename(columns={'Country/Region': 'Country','Province/State': 'Province',}, inplace=True)"
   ]
  },
  {
   "cell_type": "code",
   "execution_count": 15,
   "id": "880b8c7f-1582-4149-b21b-3e14dac23476",
   "metadata": {},
   "outputs": [
    {
     "data": {
      "text/html": [
       "<div>\n",
       "<style scoped>\n",
       "    .dataframe tbody tr th:only-of-type {\n",
       "        vertical-align: middle;\n",
       "    }\n",
       "\n",
       "    .dataframe tbody tr th {\n",
       "        vertical-align: top;\n",
       "    }\n",
       "\n",
       "    .dataframe thead th {\n",
       "        text-align: right;\n",
       "    }\n",
       "</style>\n",
       "<table border=\"1\" class=\"dataframe\">\n",
       "  <thead>\n",
       "    <tr style=\"text-align: right;\">\n",
       "      <th></th>\n",
       "      <th>SNo</th>\n",
       "      <th>ObservationDate</th>\n",
       "      <th>Province</th>\n",
       "      <th>Country</th>\n",
       "      <th>Last Update</th>\n",
       "      <th>Confirmed</th>\n",
       "      <th>Deaths</th>\n",
       "      <th>Recovered</th>\n",
       "    </tr>\n",
       "  </thead>\n",
       "  <tbody>\n",
       "    <tr>\n",
       "      <th>0</th>\n",
       "      <td>1</td>\n",
       "      <td>01/22/2020</td>\n",
       "      <td>Anhui</td>\n",
       "      <td>Mainland China</td>\n",
       "      <td>1/22/2020 17:00</td>\n",
       "      <td>1.0</td>\n",
       "      <td>0.0</td>\n",
       "      <td>0.0</td>\n",
       "    </tr>\n",
       "    <tr>\n",
       "      <th>1</th>\n",
       "      <td>2</td>\n",
       "      <td>01/22/2020</td>\n",
       "      <td>Beijing</td>\n",
       "      <td>Mainland China</td>\n",
       "      <td>1/22/2020 17:00</td>\n",
       "      <td>14.0</td>\n",
       "      <td>0.0</td>\n",
       "      <td>0.0</td>\n",
       "    </tr>\n",
       "    <tr>\n",
       "      <th>2</th>\n",
       "      <td>3</td>\n",
       "      <td>01/22/2020</td>\n",
       "      <td>Chongqing</td>\n",
       "      <td>Mainland China</td>\n",
       "      <td>1/22/2020 17:00</td>\n",
       "      <td>6.0</td>\n",
       "      <td>0.0</td>\n",
       "      <td>0.0</td>\n",
       "    </tr>\n",
       "    <tr>\n",
       "      <th>3</th>\n",
       "      <td>4</td>\n",
       "      <td>01/22/2020</td>\n",
       "      <td>Fujian</td>\n",
       "      <td>Mainland China</td>\n",
       "      <td>1/22/2020 17:00</td>\n",
       "      <td>1.0</td>\n",
       "      <td>0.0</td>\n",
       "      <td>0.0</td>\n",
       "    </tr>\n",
       "    <tr>\n",
       "      <th>4</th>\n",
       "      <td>5</td>\n",
       "      <td>01/22/2020</td>\n",
       "      <td>Gansu</td>\n",
       "      <td>Mainland China</td>\n",
       "      <td>1/22/2020 17:00</td>\n",
       "      <td>0.0</td>\n",
       "      <td>0.0</td>\n",
       "      <td>0.0</td>\n",
       "    </tr>\n",
       "    <tr>\n",
       "      <th>...</th>\n",
       "      <td>...</td>\n",
       "      <td>...</td>\n",
       "      <td>...</td>\n",
       "      <td>...</td>\n",
       "      <td>...</td>\n",
       "      <td>...</td>\n",
       "      <td>...</td>\n",
       "      <td>...</td>\n",
       "    </tr>\n",
       "    <tr>\n",
       "      <th>306424</th>\n",
       "      <td>306425</td>\n",
       "      <td>05/29/2021</td>\n",
       "      <td>Zaporizhia Oblast</td>\n",
       "      <td>Ukraine</td>\n",
       "      <td>2021-05-30 04:20:55</td>\n",
       "      <td>102641.0</td>\n",
       "      <td>2335.0</td>\n",
       "      <td>95289.0</td>\n",
       "    </tr>\n",
       "    <tr>\n",
       "      <th>306425</th>\n",
       "      <td>306426</td>\n",
       "      <td>05/29/2021</td>\n",
       "      <td>Zeeland</td>\n",
       "      <td>Netherlands</td>\n",
       "      <td>2021-05-30 04:20:55</td>\n",
       "      <td>29147.0</td>\n",
       "      <td>245.0</td>\n",
       "      <td>0.0</td>\n",
       "    </tr>\n",
       "    <tr>\n",
       "      <th>306426</th>\n",
       "      <td>306427</td>\n",
       "      <td>05/29/2021</td>\n",
       "      <td>Zhejiang</td>\n",
       "      <td>Mainland China</td>\n",
       "      <td>2021-05-30 04:20:55</td>\n",
       "      <td>1364.0</td>\n",
       "      <td>1.0</td>\n",
       "      <td>1324.0</td>\n",
       "    </tr>\n",
       "    <tr>\n",
       "      <th>306427</th>\n",
       "      <td>306428</td>\n",
       "      <td>05/29/2021</td>\n",
       "      <td>Zhytomyr Oblast</td>\n",
       "      <td>Ukraine</td>\n",
       "      <td>2021-05-30 04:20:55</td>\n",
       "      <td>87550.0</td>\n",
       "      <td>1738.0</td>\n",
       "      <td>83790.0</td>\n",
       "    </tr>\n",
       "    <tr>\n",
       "      <th>306428</th>\n",
       "      <td>306429</td>\n",
       "      <td>05/29/2021</td>\n",
       "      <td>Zuid-Holland</td>\n",
       "      <td>Netherlands</td>\n",
       "      <td>2021-05-30 04:20:55</td>\n",
       "      <td>391559.0</td>\n",
       "      <td>4252.0</td>\n",
       "      <td>0.0</td>\n",
       "    </tr>\n",
       "  </tbody>\n",
       "</table>\n",
       "<p>306429 rows × 8 columns</p>\n",
       "</div>"
      ],
      "text/plain": [
       "           SNo ObservationDate           Province         Country  \\\n",
       "0            1      01/22/2020              Anhui  Mainland China   \n",
       "1            2      01/22/2020            Beijing  Mainland China   \n",
       "2            3      01/22/2020          Chongqing  Mainland China   \n",
       "3            4      01/22/2020             Fujian  Mainland China   \n",
       "4            5      01/22/2020              Gansu  Mainland China   \n",
       "...        ...             ...                ...             ...   \n",
       "306424  306425      05/29/2021  Zaporizhia Oblast         Ukraine   \n",
       "306425  306426      05/29/2021            Zeeland     Netherlands   \n",
       "306426  306427      05/29/2021           Zhejiang  Mainland China   \n",
       "306427  306428      05/29/2021    Zhytomyr Oblast         Ukraine   \n",
       "306428  306429      05/29/2021       Zuid-Holland     Netherlands   \n",
       "\n",
       "                Last Update  Confirmed  Deaths  Recovered  \n",
       "0           1/22/2020 17:00        1.0     0.0        0.0  \n",
       "1           1/22/2020 17:00       14.0     0.0        0.0  \n",
       "2           1/22/2020 17:00        6.0     0.0        0.0  \n",
       "3           1/22/2020 17:00        1.0     0.0        0.0  \n",
       "4           1/22/2020 17:00        0.0     0.0        0.0  \n",
       "...                     ...        ...     ...        ...  \n",
       "306424  2021-05-30 04:20:55   102641.0  2335.0    95289.0  \n",
       "306425  2021-05-30 04:20:55    29147.0   245.0        0.0  \n",
       "306426  2021-05-30 04:20:55     1364.0     1.0     1324.0  \n",
       "306427  2021-05-30 04:20:55    87550.0  1738.0    83790.0  \n",
       "306428  2021-05-30 04:20:55   391559.0  4252.0        0.0  \n",
       "\n",
       "[306429 rows x 8 columns]"
      ]
     },
     "execution_count": 15,
     "metadata": {},
     "output_type": "execute_result"
    }
   ],
   "source": [
    "df"
   ]
  },
  {
   "cell_type": "markdown",
   "id": "b69ddd6c-290d-408b-a042-a08dae039265",
   "metadata": {},
   "source": [
    "Basic data exploration"
   ]
  },
  {
   "cell_type": "markdown",
   "id": "3d7ceda9-4b16-4e56-b54a-11fedcbd4013",
   "metadata": {},
   "source": [
    "Total confirmed cases worldwide:"
   ]
  },
  {
   "cell_type": "code",
   "execution_count": 16,
   "id": "7198ae05-3150-41d5-bd3f-6267103c9ea6",
   "metadata": {},
   "outputs": [
    {
     "data": {
      "text/plain": [
       "np.float64(26252051758.0)"
      ]
     },
     "execution_count": 16,
     "metadata": {},
     "output_type": "execute_result"
    }
   ],
   "source": [
    "df['Confirmed'].sum()"
   ]
  },
  {
   "cell_type": "markdown",
   "id": "770e3529-0006-4e75-ac3b-82fbd115bf00",
   "metadata": {},
   "source": [
    "Total deaths and recoveries:"
   ]
  },
  {
   "cell_type": "code",
   "execution_count": 17,
   "id": "7cd5337d-698c-43e1-9585-2c679678701b",
   "metadata": {},
   "outputs": [
    {
     "data": {
      "text/plain": [
       "np.float64(624013017.0)"
      ]
     },
     "execution_count": 17,
     "metadata": {},
     "output_type": "execute_result"
    }
   ],
   "source": [
    "df['Deaths'].sum()"
   ]
  },
  {
   "cell_type": "markdown",
   "id": "44ec598d-bb17-4627-91fa-6a3c13c50fd0",
   "metadata": {},
   "source": [
    "Total recovered cases worldwide:"
   ]
  },
  {
   "cell_type": "code",
   "execution_count": 18,
   "id": "bff39c10-639e-4f27-9a2a-fac93a42e0f9",
   "metadata": {},
   "outputs": [
    {
     "data": {
      "text/plain": [
       "np.float64(15450237912.0)"
      ]
     },
     "execution_count": 18,
     "metadata": {},
     "output_type": "execute_result"
    }
   ],
   "source": [
    "df['Recovered'].sum()"
   ]
  },
  {
   "cell_type": "markdown",
   "id": "adbbbf57-fffc-4f60-ba3e-f508f9b2a9c6",
   "metadata": {},
   "source": [
    "Names of unique countries:"
   ]
  },
  {
   "cell_type": "code",
   "execution_count": 19,
   "id": "51d88596-3392-4608-a8c8-c6cdbd050b96",
   "metadata": {},
   "outputs": [
    {
     "data": {
      "text/plain": [
       "array(['Mainland China', 'Hong Kong', 'Macau', 'Taiwan', 'US', 'Japan',\n",
       "       'Thailand', 'South Korea', 'China', 'Kiribati', 'Singapore',\n",
       "       'Philippines', 'Malaysia', 'Vietnam', 'Australia', 'Mexico',\n",
       "       'Brazil', 'Colombia', 'France', 'Nepal', 'Canada', 'Cambodia',\n",
       "       'Sri Lanka', 'Ivory Coast', 'Germany', 'Finland',\n",
       "       'United Arab Emirates', 'India', 'Italy', 'UK', 'Russia', 'Sweden',\n",
       "       'Spain', 'Belgium', 'Others', 'Egypt', 'Iran', 'Israel', 'Lebanon',\n",
       "       'Iraq', 'Oman', 'Afghanistan', 'Bahrain', 'Kuwait', 'Austria',\n",
       "       'Algeria', 'Croatia', 'Switzerland', 'Pakistan', 'Georgia',\n",
       "       'Greece', 'North Macedonia', 'Norway', 'Romania', 'Denmark',\n",
       "       'Estonia', 'Netherlands', 'San Marino', ' Azerbaijan', 'Belarus',\n",
       "       'Iceland', 'Lithuania', 'New Zealand', 'Nigeria', 'North Ireland',\n",
       "       'Ireland', 'Luxembourg', 'Monaco', 'Qatar', 'Ecuador',\n",
       "       'Azerbaijan', 'Czech Republic', 'Armenia', 'Dominican Republic',\n",
       "       'Indonesia', 'Portugal', 'Andorra', 'Latvia', 'Morocco',\n",
       "       'Saudi Arabia', 'Senegal', 'Argentina', 'Chile', 'Jordan',\n",
       "       'Ukraine', 'Saint Barthelemy', 'Hungary', 'Faroe Islands',\n",
       "       'Gibraltar', 'Liechtenstein', 'Poland', 'Tunisia', 'Palestine',\n",
       "       'Bosnia and Herzegovina', 'Slovenia', 'South Africa', 'Bhutan',\n",
       "       'Cameroon', 'Costa Rica', 'Peru', 'Serbia', 'Slovakia', 'Togo',\n",
       "       'Vatican City', 'French Guiana', 'Malta', 'Martinique',\n",
       "       'Republic of Ireland', 'Bulgaria', 'Maldives', 'Bangladesh',\n",
       "       'Moldova', 'Paraguay', 'Albania', 'Cyprus', 'St. Martin', 'Brunei',\n",
       "       'occupied Palestinian territory', \"('St. Martin',)\",\n",
       "       'Burkina Faso', 'Channel Islands', 'Holy See', 'Mongolia',\n",
       "       'Panama', 'Bolivia', 'Honduras', 'Congo (Kinshasa)', 'Jamaica',\n",
       "       'Reunion', 'Turkey', 'Cuba', 'Guyana', 'Kazakhstan',\n",
       "       'Cayman Islands', 'Guadeloupe', 'Ethiopia', 'Sudan', 'Guinea',\n",
       "       'Antigua and Barbuda', 'Aruba', 'Kenya', 'Uruguay', 'Ghana',\n",
       "       'Jersey', 'Namibia', 'Seychelles', 'Trinidad and Tobago',\n",
       "       'Venezuela', 'Curacao', 'Eswatini', 'Gabon', 'Guatemala',\n",
       "       'Guernsey', 'Mauritania', 'Rwanda', 'Saint Lucia',\n",
       "       'Saint Vincent and the Grenadines', 'Suriname', 'Kosovo',\n",
       "       'Central African Republic', 'Congo (Brazzaville)',\n",
       "       'Equatorial Guinea', 'Uzbekistan', 'Guam', 'Puerto Rico', 'Benin',\n",
       "       'Greenland', 'Liberia', 'Mayotte', 'Republic of the Congo',\n",
       "       'Somalia', 'Tanzania', 'The Bahamas', 'Barbados', 'Montenegro',\n",
       "       'The Gambia', 'Kyrgyzstan', 'Mauritius', 'Zambia', 'Djibouti',\n",
       "       'Gambia, The', 'Bahamas, The', 'Chad', 'El Salvador', 'Fiji',\n",
       "       'Nicaragua', 'Madagascar', 'Haiti', 'Angola', 'Cabo Verde',\n",
       "       'Niger', 'Papua New Guinea', 'Zimbabwe', 'Cape Verde',\n",
       "       'East Timor', 'Eritrea', 'Uganda', 'Bahamas', 'Dominica', 'Gambia',\n",
       "       'Grenada', 'Mozambique', 'Samoa', 'Syria', 'Timor-Leste', 'Belize',\n",
       "       'Laos', 'Libya', 'Diamond Princess', 'Guinea-Bissau', 'Mali',\n",
       "       'Saint Kitts and Nevis', 'West Bank and Gaza', 'Burma',\n",
       "       'MS Zaandam', 'Botswana', 'Burundi', 'Sierra Leone', 'Malawi',\n",
       "       'South Sudan', 'Sao Tome and Principe', 'Yemen', 'Comoros',\n",
       "       'Tajikistan', 'Lesotho', 'Solomon Islands', 'Marshall Islands',\n",
       "       'Vanuatu', 'Micronesia'], dtype=object)"
      ]
     },
     "execution_count": 19,
     "metadata": {},
     "output_type": "execute_result"
    }
   ],
   "source": [
    "df['Country'].unique()"
   ]
  },
  {
   "cell_type": "markdown",
   "id": "359cd6dc-2524-4b7e-8bb1-ebd8628822e9",
   "metadata": {},
   "source": [
    "Manipulation"
   ]
  },
  {
   "cell_type": "code",
   "execution_count": 34,
   "id": "cc8b7d10-6d87-4572-ba95-44a059eb8274",
   "metadata": {},
   "outputs": [],
   "source": [
    "import os"
   ]
  },
  {
   "cell_type": "code",
   "execution_count": 35,
   "id": "afb54d86-1c26-4e38-bbb1-d38db352c7b1",
   "metadata": {},
   "outputs": [
    {
     "data": {
      "text/plain": [
       "'C:\\\\Users\\\\v\\\\Desktop'"
      ]
     },
     "execution_count": 35,
     "metadata": {},
     "output_type": "execute_result"
    }
   ],
   "source": [
    "os.getcwd()"
   ]
  },
  {
   "cell_type": "code",
   "execution_count": 39,
   "id": "04f0bb2b-7ffd-43f3-93f0-b42daf2ac018",
   "metadata": {},
   "outputs": [],
   "source": [
    "df2=pd.read_csv(\"country_vaccinations.csv\")"
   ]
  },
  {
   "cell_type": "code",
   "execution_count": 40,
   "id": "91925478-f9eb-4634-9151-edf55ff40892",
   "metadata": {},
   "outputs": [
    {
     "data": {
      "text/html": [
       "<div>\n",
       "<style scoped>\n",
       "    .dataframe tbody tr th:only-of-type {\n",
       "        vertical-align: middle;\n",
       "    }\n",
       "\n",
       "    .dataframe tbody tr th {\n",
       "        vertical-align: top;\n",
       "    }\n",
       "\n",
       "    .dataframe thead th {\n",
       "        text-align: right;\n",
       "    }\n",
       "</style>\n",
       "<table border=\"1\" class=\"dataframe\">\n",
       "  <thead>\n",
       "    <tr style=\"text-align: right;\">\n",
       "      <th></th>\n",
       "      <th>country</th>\n",
       "      <th>iso_code</th>\n",
       "      <th>date</th>\n",
       "      <th>total_vaccinations</th>\n",
       "      <th>people_vaccinated</th>\n",
       "      <th>people_fully_vaccinated</th>\n",
       "      <th>daily_vaccinations_raw</th>\n",
       "      <th>daily_vaccinations</th>\n",
       "      <th>total_vaccinations_per_hundred</th>\n",
       "      <th>people_vaccinated_per_hundred</th>\n",
       "      <th>people_fully_vaccinated_per_hundred</th>\n",
       "      <th>daily_vaccinations_per_million</th>\n",
       "      <th>vaccines</th>\n",
       "      <th>source_name</th>\n",
       "      <th>source_website</th>\n",
       "    </tr>\n",
       "  </thead>\n",
       "  <tbody>\n",
       "    <tr>\n",
       "      <th>0</th>\n",
       "      <td>Afghanistan</td>\n",
       "      <td>AFG</td>\n",
       "      <td>2021-02-22</td>\n",
       "      <td>0.0</td>\n",
       "      <td>0.0</td>\n",
       "      <td>NaN</td>\n",
       "      <td>NaN</td>\n",
       "      <td>NaN</td>\n",
       "      <td>0.00</td>\n",
       "      <td>0.00</td>\n",
       "      <td>NaN</td>\n",
       "      <td>NaN</td>\n",
       "      <td>BBIBP-CorV, Oxford/AstraZeneca, Pfizer/BioNTech</td>\n",
       "      <td>World Health Organization</td>\n",
       "      <td>https://covid19.who.int/</td>\n",
       "    </tr>\n",
       "    <tr>\n",
       "      <th>1</th>\n",
       "      <td>Afghanistan</td>\n",
       "      <td>AFG</td>\n",
       "      <td>2021-02-23</td>\n",
       "      <td>NaN</td>\n",
       "      <td>NaN</td>\n",
       "      <td>NaN</td>\n",
       "      <td>NaN</td>\n",
       "      <td>1367.0</td>\n",
       "      <td>NaN</td>\n",
       "      <td>NaN</td>\n",
       "      <td>NaN</td>\n",
       "      <td>35.0</td>\n",
       "      <td>BBIBP-CorV, Oxford/AstraZeneca, Pfizer/BioNTech</td>\n",
       "      <td>World Health Organization</td>\n",
       "      <td>https://covid19.who.int/</td>\n",
       "    </tr>\n",
       "    <tr>\n",
       "      <th>2</th>\n",
       "      <td>Afghanistan</td>\n",
       "      <td>AFG</td>\n",
       "      <td>2021-02-24</td>\n",
       "      <td>NaN</td>\n",
       "      <td>NaN</td>\n",
       "      <td>NaN</td>\n",
       "      <td>NaN</td>\n",
       "      <td>1367.0</td>\n",
       "      <td>NaN</td>\n",
       "      <td>NaN</td>\n",
       "      <td>NaN</td>\n",
       "      <td>35.0</td>\n",
       "      <td>BBIBP-CorV, Oxford/AstraZeneca, Pfizer/BioNTech</td>\n",
       "      <td>World Health Organization</td>\n",
       "      <td>https://covid19.who.int/</td>\n",
       "    </tr>\n",
       "    <tr>\n",
       "      <th>3</th>\n",
       "      <td>Afghanistan</td>\n",
       "      <td>AFG</td>\n",
       "      <td>2021-02-25</td>\n",
       "      <td>NaN</td>\n",
       "      <td>NaN</td>\n",
       "      <td>NaN</td>\n",
       "      <td>NaN</td>\n",
       "      <td>1367.0</td>\n",
       "      <td>NaN</td>\n",
       "      <td>NaN</td>\n",
       "      <td>NaN</td>\n",
       "      <td>35.0</td>\n",
       "      <td>BBIBP-CorV, Oxford/AstraZeneca, Pfizer/BioNTech</td>\n",
       "      <td>World Health Organization</td>\n",
       "      <td>https://covid19.who.int/</td>\n",
       "    </tr>\n",
       "    <tr>\n",
       "      <th>4</th>\n",
       "      <td>Afghanistan</td>\n",
       "      <td>AFG</td>\n",
       "      <td>2021-02-26</td>\n",
       "      <td>NaN</td>\n",
       "      <td>NaN</td>\n",
       "      <td>NaN</td>\n",
       "      <td>NaN</td>\n",
       "      <td>1367.0</td>\n",
       "      <td>NaN</td>\n",
       "      <td>NaN</td>\n",
       "      <td>NaN</td>\n",
       "      <td>35.0</td>\n",
       "      <td>BBIBP-CorV, Oxford/AstraZeneca, Pfizer/BioNTech</td>\n",
       "      <td>World Health Organization</td>\n",
       "      <td>https://covid19.who.int/</td>\n",
       "    </tr>\n",
       "    <tr>\n",
       "      <th>...</th>\n",
       "      <td>...</td>\n",
       "      <td>...</td>\n",
       "      <td>...</td>\n",
       "      <td>...</td>\n",
       "      <td>...</td>\n",
       "      <td>...</td>\n",
       "      <td>...</td>\n",
       "      <td>...</td>\n",
       "      <td>...</td>\n",
       "      <td>...</td>\n",
       "      <td>...</td>\n",
       "      <td>...</td>\n",
       "      <td>...</td>\n",
       "      <td>...</td>\n",
       "      <td>...</td>\n",
       "    </tr>\n",
       "    <tr>\n",
       "      <th>25857</th>\n",
       "      <td>Zimbabwe</td>\n",
       "      <td>ZWE</td>\n",
       "      <td>2021-06-16</td>\n",
       "      <td>1120873.0</td>\n",
       "      <td>697399.0</td>\n",
       "      <td>423474.0</td>\n",
       "      <td>7395.0</td>\n",
       "      <td>5270.0</td>\n",
       "      <td>7.54</td>\n",
       "      <td>4.69</td>\n",
       "      <td>2.85</td>\n",
       "      <td>355.0</td>\n",
       "      <td>Sinopharm/Beijing</td>\n",
       "      <td>Ministry of Health</td>\n",
       "      <td>https://twitter.com/MoHCCZim/status/1406690528...</td>\n",
       "    </tr>\n",
       "    <tr>\n",
       "      <th>25858</th>\n",
       "      <td>Zimbabwe</td>\n",
       "      <td>ZWE</td>\n",
       "      <td>2021-06-17</td>\n",
       "      <td>1126087.0</td>\n",
       "      <td>698953.0</td>\n",
       "      <td>427134.0</td>\n",
       "      <td>5214.0</td>\n",
       "      <td>5226.0</td>\n",
       "      <td>7.58</td>\n",
       "      <td>4.70</td>\n",
       "      <td>2.87</td>\n",
       "      <td>352.0</td>\n",
       "      <td>Sinopharm/Beijing</td>\n",
       "      <td>Ministry of Health</td>\n",
       "      <td>https://twitter.com/MoHCCZim/status/1406690528...</td>\n",
       "    </tr>\n",
       "    <tr>\n",
       "      <th>25859</th>\n",
       "      <td>Zimbabwe</td>\n",
       "      <td>ZWE</td>\n",
       "      <td>2021-06-18</td>\n",
       "      <td>1131397.0</td>\n",
       "      <td>700244.0</td>\n",
       "      <td>431153.0</td>\n",
       "      <td>5310.0</td>\n",
       "      <td>4935.0</td>\n",
       "      <td>7.61</td>\n",
       "      <td>4.71</td>\n",
       "      <td>2.90</td>\n",
       "      <td>332.0</td>\n",
       "      <td>Sinopharm/Beijing</td>\n",
       "      <td>Ministry of Health</td>\n",
       "      <td>https://twitter.com/MoHCCZim/status/1406690528...</td>\n",
       "    </tr>\n",
       "    <tr>\n",
       "      <th>25860</th>\n",
       "      <td>Zimbabwe</td>\n",
       "      <td>ZWE</td>\n",
       "      <td>2021-06-19</td>\n",
       "      <td>1133920.0</td>\n",
       "      <td>701348.0</td>\n",
       "      <td>432572.0</td>\n",
       "      <td>2523.0</td>\n",
       "      <td>4360.0</td>\n",
       "      <td>7.63</td>\n",
       "      <td>4.72</td>\n",
       "      <td>2.91</td>\n",
       "      <td>293.0</td>\n",
       "      <td>Sinopharm/Beijing</td>\n",
       "      <td>Ministry of Health</td>\n",
       "      <td>https://twitter.com/MoHCCZim/status/1406690528...</td>\n",
       "    </tr>\n",
       "    <tr>\n",
       "      <th>25861</th>\n",
       "      <td>Zimbabwe</td>\n",
       "      <td>ZWE</td>\n",
       "      <td>2021-06-20</td>\n",
       "      <td>1138733.0</td>\n",
       "      <td>703065.0</td>\n",
       "      <td>435668.0</td>\n",
       "      <td>4813.0</td>\n",
       "      <td>4525.0</td>\n",
       "      <td>7.66</td>\n",
       "      <td>4.73</td>\n",
       "      <td>2.93</td>\n",
       "      <td>304.0</td>\n",
       "      <td>Sinopharm/Beijing</td>\n",
       "      <td>Ministry of Health</td>\n",
       "      <td>https://twitter.com/MoHCCZim/status/1406690528...</td>\n",
       "    </tr>\n",
       "  </tbody>\n",
       "</table>\n",
       "<p>25862 rows × 15 columns</p>\n",
       "</div>"
      ],
      "text/plain": [
       "           country iso_code        date  total_vaccinations  \\\n",
       "0      Afghanistan      AFG  2021-02-22                 0.0   \n",
       "1      Afghanistan      AFG  2021-02-23                 NaN   \n",
       "2      Afghanistan      AFG  2021-02-24                 NaN   \n",
       "3      Afghanistan      AFG  2021-02-25                 NaN   \n",
       "4      Afghanistan      AFG  2021-02-26                 NaN   \n",
       "...            ...      ...         ...                 ...   \n",
       "25857     Zimbabwe      ZWE  2021-06-16           1120873.0   \n",
       "25858     Zimbabwe      ZWE  2021-06-17           1126087.0   \n",
       "25859     Zimbabwe      ZWE  2021-06-18           1131397.0   \n",
       "25860     Zimbabwe      ZWE  2021-06-19           1133920.0   \n",
       "25861     Zimbabwe      ZWE  2021-06-20           1138733.0   \n",
       "\n",
       "       people_vaccinated  people_fully_vaccinated  daily_vaccinations_raw  \\\n",
       "0                    0.0                      NaN                     NaN   \n",
       "1                    NaN                      NaN                     NaN   \n",
       "2                    NaN                      NaN                     NaN   \n",
       "3                    NaN                      NaN                     NaN   \n",
       "4                    NaN                      NaN                     NaN   \n",
       "...                  ...                      ...                     ...   \n",
       "25857           697399.0                 423474.0                  7395.0   \n",
       "25858           698953.0                 427134.0                  5214.0   \n",
       "25859           700244.0                 431153.0                  5310.0   \n",
       "25860           701348.0                 432572.0                  2523.0   \n",
       "25861           703065.0                 435668.0                  4813.0   \n",
       "\n",
       "       daily_vaccinations  total_vaccinations_per_hundred  \\\n",
       "0                     NaN                            0.00   \n",
       "1                  1367.0                             NaN   \n",
       "2                  1367.0                             NaN   \n",
       "3                  1367.0                             NaN   \n",
       "4                  1367.0                             NaN   \n",
       "...                   ...                             ...   \n",
       "25857              5270.0                            7.54   \n",
       "25858              5226.0                            7.58   \n",
       "25859              4935.0                            7.61   \n",
       "25860              4360.0                            7.63   \n",
       "25861              4525.0                            7.66   \n",
       "\n",
       "       people_vaccinated_per_hundred  people_fully_vaccinated_per_hundred  \\\n",
       "0                               0.00                                  NaN   \n",
       "1                                NaN                                  NaN   \n",
       "2                                NaN                                  NaN   \n",
       "3                                NaN                                  NaN   \n",
       "4                                NaN                                  NaN   \n",
       "...                              ...                                  ...   \n",
       "25857                           4.69                                 2.85   \n",
       "25858                           4.70                                 2.87   \n",
       "25859                           4.71                                 2.90   \n",
       "25860                           4.72                                 2.91   \n",
       "25861                           4.73                                 2.93   \n",
       "\n",
       "       daily_vaccinations_per_million  \\\n",
       "0                                 NaN   \n",
       "1                                35.0   \n",
       "2                                35.0   \n",
       "3                                35.0   \n",
       "4                                35.0   \n",
       "...                               ...   \n",
       "25857                           355.0   \n",
       "25858                           352.0   \n",
       "25859                           332.0   \n",
       "25860                           293.0   \n",
       "25861                           304.0   \n",
       "\n",
       "                                              vaccines  \\\n",
       "0      BBIBP-CorV, Oxford/AstraZeneca, Pfizer/BioNTech   \n",
       "1      BBIBP-CorV, Oxford/AstraZeneca, Pfizer/BioNTech   \n",
       "2      BBIBP-CorV, Oxford/AstraZeneca, Pfizer/BioNTech   \n",
       "3      BBIBP-CorV, Oxford/AstraZeneca, Pfizer/BioNTech   \n",
       "4      BBIBP-CorV, Oxford/AstraZeneca, Pfizer/BioNTech   \n",
       "...                                                ...   \n",
       "25857                                Sinopharm/Beijing   \n",
       "25858                                Sinopharm/Beijing   \n",
       "25859                                Sinopharm/Beijing   \n",
       "25860                                Sinopharm/Beijing   \n",
       "25861                                Sinopharm/Beijing   \n",
       "\n",
       "                     source_name  \\\n",
       "0      World Health Organization   \n",
       "1      World Health Organization   \n",
       "2      World Health Organization   \n",
       "3      World Health Organization   \n",
       "4      World Health Organization   \n",
       "...                          ...   \n",
       "25857         Ministry of Health   \n",
       "25858         Ministry of Health   \n",
       "25859         Ministry of Health   \n",
       "25860         Ministry of Health   \n",
       "25861         Ministry of Health   \n",
       "\n",
       "                                          source_website  \n",
       "0                               https://covid19.who.int/  \n",
       "1                               https://covid19.who.int/  \n",
       "2                               https://covid19.who.int/  \n",
       "3                               https://covid19.who.int/  \n",
       "4                               https://covid19.who.int/  \n",
       "...                                                  ...  \n",
       "25857  https://twitter.com/MoHCCZim/status/1406690528...  \n",
       "25858  https://twitter.com/MoHCCZim/status/1406690528...  \n",
       "25859  https://twitter.com/MoHCCZim/status/1406690528...  \n",
       "25860  https://twitter.com/MoHCCZim/status/1406690528...  \n",
       "25861  https://twitter.com/MoHCCZim/status/1406690528...  \n",
       "\n",
       "[25862 rows x 15 columns]"
      ]
     },
     "execution_count": 40,
     "metadata": {},
     "output_type": "execute_result"
    }
   ],
   "source": [
    "df2"
   ]
  },
  {
   "cell_type": "code",
   "execution_count": 52,
   "id": "e3953cf0-9c4a-490f-9598-21a3a0fe19af",
   "metadata": {},
   "outputs": [
    {
     "name": "stdout",
     "output_type": "stream",
     "text": [
      "<class 'pandas.core.frame.DataFrame'>\n",
      "RangeIndex: 25862 entries, 0 to 25861\n",
      "Data columns (total 15 columns):\n",
      " #   Column                               Non-Null Count  Dtype  \n",
      "---  ------                               --------------  -----  \n",
      " 0   country                              25862 non-null  object \n",
      " 1   iso_code                             25862 non-null  object \n",
      " 2   date                                 25862 non-null  object \n",
      " 3   total_vaccinations                   14522 non-null  float64\n",
      " 4   people_vaccinated                    13762 non-null  float64\n",
      " 5   people_fully_vaccinated              11041 non-null  float64\n",
      " 6   daily_vaccinations_raw               12003 non-null  float64\n",
      " 7   daily_vaccinations                   25595 non-null  float64\n",
      " 8   total_vaccinations_per_hundred       14522 non-null  float64\n",
      " 9   people_vaccinated_per_hundred        13762 non-null  float64\n",
      " 10  people_fully_vaccinated_per_hundred  11041 non-null  float64\n",
      " 11  daily_vaccinations_per_million       25595 non-null  float64\n",
      " 12  vaccines                             25862 non-null  object \n",
      " 13  source_name                          25862 non-null  object \n",
      " 14  source_website                       25862 non-null  object \n",
      "dtypes: float64(9), object(6)\n",
      "memory usage: 3.0+ MB\n"
     ]
    }
   ],
   "source": [
    "df2.info()"
   ]
  },
  {
   "cell_type": "code",
   "execution_count": 79,
   "id": "f92b4e24-9853-4380-bd3c-21b95325388d",
   "metadata": {},
   "outputs": [
    {
     "data": {
      "text/plain": [
       "country\n",
       "China             1.029223e+09\n",
       "United States     3.179664e+08\n",
       "India             2.742866e+08\n",
       "Brazil            8.696057e+07\n",
       "United Kingdom    7.457768e+07\n",
       "Name: total_vaccinations, dtype: float64"
      ]
     },
     "execution_count": 79,
     "metadata": {},
     "output_type": "execute_result"
    }
   ],
   "source": [
    "#Top 5 countries by total vaccinations\n",
    "df2.groupby(\"country\")[\"total_vaccinations\"].max().nlargest(5)"
   ]
  },
  {
   "cell_type": "code",
   "execution_count": 44,
   "id": "64961839-870a-4b57-af64-b526861f5a27",
   "metadata": {},
   "outputs": [
    {
     "data": {
      "text/plain": [
       "country\n",
       "Afghanistan    1\n",
       "Albania        1\n",
       "Algeria        1\n",
       "Andorra        1\n",
       "Angola         1\n",
       "Name: vaccines, dtype: int64"
      ]
     },
     "execution_count": 44,
     "metadata": {},
     "output_type": "execute_result"
    }
   ],
   "source": [
    "#Find how many vaccine types each country used\n",
    "df2.groupby(\"country\")[\"vaccines\"].nunique().head()"
   ]
  },
  {
   "cell_type": "code",
   "execution_count": 45,
   "id": "615d132c-9cbb-4b39-87ae-632523dff484",
   "metadata": {},
   "outputs": [
    {
     "data": {
      "text/plain": [
       "np.float64(1688854.0256410257)"
      ]
     },
     "execution_count": 45,
     "metadata": {},
     "output_type": "execute_result"
    }
   ],
   "source": [
    "#Average daily vaccinations in India\n",
    "df2[df2[\"country\"]==\"India\"][\"daily_vaccinations\"].mean()"
   ]
  },
  {
   "cell_type": "code",
   "execution_count": 50,
   "id": "a9b0efe2-d484-4f94-a55c-5e504aeb9bde",
   "metadata": {},
   "outputs": [
    {
     "data": {
      "text/plain": [
       "country\n",
       "Afghanistan           662003.0\n",
       "Albania               880912.0\n",
       "Algeria              2500000.0\n",
       "Andorra                51107.0\n",
       "Angola               1380174.0\n",
       "                       ...    \n",
       "Wales                3755314.0\n",
       "Wallis and Futuna       8657.0\n",
       "Yemen                 251385.0\n",
       "Zambia                148304.0\n",
       "Zimbabwe             1138733.0\n",
       "Name: total_vaccinations, Length: 217, dtype: float64"
      ]
     },
     "execution_count": 50,
     "metadata": {},
     "output_type": "execute_result"
    }
   ],
   "source": [
    "#Total vaccinations per country\n",
    "df2.groupby(\"country\")[\"total_vaccinations\"].max()"
   ]
  },
  {
   "cell_type": "code",
   "execution_count": 51,
   "id": "876cd6d7-0079-4ab7-9798-d17cb5c1619b",
   "metadata": {},
   "outputs": [
    {
     "data": {
      "text/plain": [
       "country\n",
       "China             223299000.0\n",
       "United States     149667646.0\n",
       "India              49745316.0\n",
       "United Kingdom     31449915.0\n",
       "England            26534936.0\n",
       "Name: people_fully_vaccinated, dtype: float64"
      ]
     },
     "execution_count": 51,
     "metadata": {},
     "output_type": "execute_result"
    }
   ],
   "source": [
    "#Top 5 countries by fully vaccinated people\n",
    "df2.groupby(\"country\")[\"people_fully_vaccinated\"].max().nlargest(5)"
   ]
  },
  {
   "cell_type": "code",
   "execution_count": 73,
   "id": "b94a2af7-9e09-4ea4-bbbf-4e9b8398d2d4",
   "metadata": {},
   "outputs": [
    {
     "data": {
      "text/html": [
       "<div>\n",
       "<style scoped>\n",
       "    .dataframe tbody tr th:only-of-type {\n",
       "        vertical-align: middle;\n",
       "    }\n",
       "\n",
       "    .dataframe tbody tr th {\n",
       "        vertical-align: top;\n",
       "    }\n",
       "\n",
       "    .dataframe thead th {\n",
       "        text-align: right;\n",
       "    }\n",
       "</style>\n",
       "<table border=\"1\" class=\"dataframe\">\n",
       "  <thead>\n",
       "    <tr style=\"text-align: right;\">\n",
       "      <th></th>\n",
       "      <th>SNo</th>\n",
       "      <th>ObservationDate</th>\n",
       "      <th>Province</th>\n",
       "      <th>Country</th>\n",
       "      <th>Last Update</th>\n",
       "      <th>Confirmed</th>\n",
       "      <th>Deaths</th>\n",
       "      <th>Recovered</th>\n",
       "    </tr>\n",
       "  </thead>\n",
       "  <tbody>\n",
       "    <tr>\n",
       "      <th>446</th>\n",
       "      <td>447</td>\n",
       "      <td>01/30/2020</td>\n",
       "      <td>Unknown</td>\n",
       "      <td>India</td>\n",
       "      <td>1/30/20 16:00</td>\n",
       "      <td>1.0</td>\n",
       "      <td>0.0</td>\n",
       "      <td>0.0</td>\n",
       "    </tr>\n",
       "    <tr>\n",
       "      <th>509</th>\n",
       "      <td>510</td>\n",
       "      <td>01/31/2020</td>\n",
       "      <td>Unknown</td>\n",
       "      <td>India</td>\n",
       "      <td>1/31/2020 23:59</td>\n",
       "      <td>1.0</td>\n",
       "      <td>0.0</td>\n",
       "      <td>0.0</td>\n",
       "    </tr>\n",
       "    <tr>\n",
       "      <th>567</th>\n",
       "      <td>568</td>\n",
       "      <td>02/01/2020</td>\n",
       "      <td>Unknown</td>\n",
       "      <td>India</td>\n",
       "      <td>1/31/2020 8:15</td>\n",
       "      <td>1.0</td>\n",
       "      <td>0.0</td>\n",
       "      <td>0.0</td>\n",
       "    </tr>\n",
       "    <tr>\n",
       "      <th>629</th>\n",
       "      <td>630</td>\n",
       "      <td>02/02/2020</td>\n",
       "      <td>Unknown</td>\n",
       "      <td>India</td>\n",
       "      <td>2020-02-02T06:03:08</td>\n",
       "      <td>2.0</td>\n",
       "      <td>0.0</td>\n",
       "      <td>0.0</td>\n",
       "    </tr>\n",
       "    <tr>\n",
       "      <th>696</th>\n",
       "      <td>697</td>\n",
       "      <td>02/03/2020</td>\n",
       "      <td>Unknown</td>\n",
       "      <td>India</td>\n",
       "      <td>2020-02-03T21:43:02</td>\n",
       "      <td>3.0</td>\n",
       "      <td>0.0</td>\n",
       "      <td>0.0</td>\n",
       "    </tr>\n",
       "    <tr>\n",
       "      <th>...</th>\n",
       "      <td>...</td>\n",
       "      <td>...</td>\n",
       "      <td>...</td>\n",
       "      <td>...</td>\n",
       "      <td>...</td>\n",
       "      <td>...</td>\n",
       "      <td>...</td>\n",
       "      <td>...</td>\n",
       "    </tr>\n",
       "    <tr>\n",
       "      <th>306351</th>\n",
       "      <td>306352</td>\n",
       "      <td>05/29/2021</td>\n",
       "      <td>Tripura</td>\n",
       "      <td>India</td>\n",
       "      <td>2021-05-30 04:20:55</td>\n",
       "      <td>50739.0</td>\n",
       "      <td>507.0</td>\n",
       "      <td>43190.0</td>\n",
       "    </tr>\n",
       "    <tr>\n",
       "      <th>306366</th>\n",
       "      <td>306367</td>\n",
       "      <td>05/29/2021</td>\n",
       "      <td>Unknown</td>\n",
       "      <td>India</td>\n",
       "      <td>2021-05-30 04:20:55</td>\n",
       "      <td>0.0</td>\n",
       "      <td>0.0</td>\n",
       "      <td>0.0</td>\n",
       "    </tr>\n",
       "    <tr>\n",
       "      <th>306377</th>\n",
       "      <td>306378</td>\n",
       "      <td>05/29/2021</td>\n",
       "      <td>Uttar Pradesh</td>\n",
       "      <td>India</td>\n",
       "      <td>2021-05-30 04:20:55</td>\n",
       "      <td>1688152.0</td>\n",
       "      <td>20208.0</td>\n",
       "      <td>1621743.0</td>\n",
       "    </tr>\n",
       "    <tr>\n",
       "      <th>306378</th>\n",
       "      <td>306379</td>\n",
       "      <td>05/29/2021</td>\n",
       "      <td>Uttarakhand</td>\n",
       "      <td>India</td>\n",
       "      <td>2021-05-30 04:20:55</td>\n",
       "      <td>327112.0</td>\n",
       "      <td>6360.0</td>\n",
       "      <td>289642.0</td>\n",
       "    </tr>\n",
       "    <tr>\n",
       "      <th>306406</th>\n",
       "      <td>306407</td>\n",
       "      <td>05/29/2021</td>\n",
       "      <td>West Bengal</td>\n",
       "      <td>India</td>\n",
       "      <td>2021-05-30 04:20:55</td>\n",
       "      <td>1354956.0</td>\n",
       "      <td>15268.0</td>\n",
       "      <td>1237290.0</td>\n",
       "    </tr>\n",
       "  </tbody>\n",
       "</table>\n",
       "<p>13182 rows × 8 columns</p>\n",
       "</div>"
      ],
      "text/plain": [
       "           SNo ObservationDate       Province Country          Last Update  \\\n",
       "446        447      01/30/2020        Unknown   India        1/30/20 16:00   \n",
       "509        510      01/31/2020        Unknown   India      1/31/2020 23:59   \n",
       "567        568      02/01/2020        Unknown   India       1/31/2020 8:15   \n",
       "629        630      02/02/2020        Unknown   India  2020-02-02T06:03:08   \n",
       "696        697      02/03/2020        Unknown   India  2020-02-03T21:43:02   \n",
       "...        ...             ...            ...     ...                  ...   \n",
       "306351  306352      05/29/2021        Tripura   India  2021-05-30 04:20:55   \n",
       "306366  306367      05/29/2021        Unknown   India  2021-05-30 04:20:55   \n",
       "306377  306378      05/29/2021  Uttar Pradesh   India  2021-05-30 04:20:55   \n",
       "306378  306379      05/29/2021    Uttarakhand   India  2021-05-30 04:20:55   \n",
       "306406  306407      05/29/2021    West Bengal   India  2021-05-30 04:20:55   \n",
       "\n",
       "        Confirmed   Deaths  Recovered  \n",
       "446           1.0      0.0        0.0  \n",
       "509           1.0      0.0        0.0  \n",
       "567           1.0      0.0        0.0  \n",
       "629           2.0      0.0        0.0  \n",
       "696           3.0      0.0        0.0  \n",
       "...           ...      ...        ...  \n",
       "306351    50739.0    507.0    43190.0  \n",
       "306366        0.0      0.0        0.0  \n",
       "306377  1688152.0  20208.0  1621743.0  \n",
       "306378   327112.0   6360.0   289642.0  \n",
       "306406  1354956.0  15268.0  1237290.0  \n",
       "\n",
       "[13182 rows x 8 columns]"
      ]
     },
     "execution_count": 73,
     "metadata": {},
     "output_type": "execute_result"
    }
   ],
   "source": [
    "#recovered cases in india\n",
    "df[df[\"Country\"] == \"India\"]"
   ]
  },
  {
   "cell_type": "markdown",
   "id": "a5638481-61d2-4411-886f-4d7720820a55",
   "metadata": {},
   "source": [
    "Country-wise Analysis"
   ]
  },
  {
   "cell_type": "markdown",
   "id": "3e920b88-da1a-41e3-8036-fc182e4da49a",
   "metadata": {},
   "source": [
    "Top 10 countries with the most confirmed cases:"
   ]
  },
  {
   "cell_type": "code",
   "execution_count": 21,
   "id": "9c5fccc5-bc7c-4d89-aa33-e0737deb111a",
   "metadata": {},
   "outputs": [
    {
     "data": {
      "text/plain": [
       "Country\n",
       "US         6.049146e+09\n",
       "India      3.226768e+09\n",
       "Brazil     2.653588e+09\n",
       "Russia     9.305488e+08\n",
       "France     8.551890e+08\n",
       "UK         7.837944e+08\n",
       "Spain      6.491118e+08\n",
       "Italy      6.366943e+08\n",
       "Turkey     6.189410e+08\n",
       "Germany    5.241668e+08\n",
       "Name: Confirmed, dtype: float64"
      ]
     },
     "execution_count": 21,
     "metadata": {},
     "output_type": "execute_result"
    }
   ],
   "source": [
    " df.groupby('Country')['Confirmed'].sum().sort_values(ascending=False).head(10)"
   ]
  },
  {
   "cell_type": "markdown",
   "id": "ce53f22b-3808-4e17-a4dc-89a6edd8632b",
   "metadata": {},
   "source": [
    "Top 10 countries with the most deaths:"
   ]
  },
  {
   "cell_type": "code",
   "execution_count": 22,
   "id": "2f91a370-6cb6-431c-801b-5559d303d8cc",
   "metadata": {},
   "outputs": [
    {
     "data": {
      "text/plain": [
       "Country\n",
       "US        123303762.0\n",
       "Brazil     72624610.0\n",
       "India      44424723.0\n",
       "Mexico     43005509.0\n",
       "UK         29171984.0\n",
       "Italy      26000702.0\n",
       "France     22720818.0\n",
       "Spain      19065104.0\n",
       "Russia     18363719.0\n",
       "Iran       15744407.0\n",
       "Name: Deaths, dtype: float64"
      ]
     },
     "execution_count": 22,
     "metadata": {},
     "output_type": "execute_result"
    }
   ],
   "source": [
    "df.groupby('Country')['Deaths'].sum().sort_values(ascending=False).head(10)"
   ]
  },
  {
   "cell_type": "markdown",
   "id": "d0d8f094-6b6c-418e-8d77-689c7a16f19b",
   "metadata": {},
   "source": [
    "Visualization Section"
   ]
  },
  {
   "cell_type": "code",
   "execution_count": 59,
   "id": "92a7b4d0-a76b-4a87-92d3-7e892f7309b0",
   "metadata": {},
   "outputs": [
    {
     "data": {
      "image/png": "[encoded data removed]",
      "text/plain": [
       "<Figure size 700x500 with 1 Axes>"
      ]
     },
     "metadata": {},
     "output_type": "display_data"
    }
   ],
   "source": [
    "#Bar chart\n",
    "top_confirmed = df.groupby('Country')['Confirmed'].sum().sort_values(ascending=False).head(10)\n",
    "\n",
    "plt.figure(figsize=(7,5), facecolor='#FFC0CB')\n",
    "plt.bar(top_confirmed.index, top_confirmed.values, color=\"orange\", width=0.7)\n",
    "plt.title('Top 10 Countries - Confirmed Cases')\n",
    "plt.xlabel('Country')\n",
    "plt.ylabel('Confirmed Cases')\n",
    "plt.xticks(rotation=45)\n",
    "\n",
    "plt.show()   \n"
   ]
  },
  {
   "cell_type": "code",
   "execution_count": 24,
   "id": "14040293-5c52-407c-8a88-c52372f9f714",
   "metadata": {},
   "outputs": [
    {
     "data": {
      "image/png": "[encoded data removed]",
      "text/plain": [
       "<Figure size 1000x500 with 1 Axes>"
      ]
     },
     "metadata": {},
     "output_type": "display_data"
    }
   ],
   "source": [
    "#Line chart\n",
    "data = df.groupby('ObservationDate')['Deaths'].sum().head(10).reset_index()\n",
    "x = data['ObservationDate']\n",
    "y = data['Deaths']\n",
    "plt.figure(figsize=(10,5))\n",
    "plt.plot(x, y, color='red')\n",
    "plt.title('Global Deaths Over Time')\n",
    "plt.ylabel('Deaths')\n",
    "plt.xlabel('Date')\n",
    "plt.xticks(rotation=45)\n",
    "plt.show()\n",
    "\n"
   ]
  },
  {
   "cell_type": "code",
   "execution_count": 25,
   "id": "9dde13a5-0c0f-4e78-870e-9b4becd5a491",
   "metadata": {},
   "outputs": [
    {
     "data": {
      "image/png": "[encoded data removed]",
      "text/plain": [
       "<Figure size 1000x500 with 1 Axes>"
      ]
     },
     "metadata": {},
     "output_type": "display_data"
    }
   ],
   "source": [
    "data = df.groupby('ObservationDate')['Deaths'].sum().tail(10).reset_index()\n",
    "x = data['ObservationDate']\n",
    "y = data['Deaths']\n",
    "plt.figure(figsize=(10,5))\n",
    "plt.plot(x, y, color='red')\n",
    "plt.title('Global Deaths Over Time')\n",
    "plt.ylabel('Deaths')\n",
    "plt.xlabel('Date')\n",
    "plt.xticks(rotation=45)\n",
    "plt.show()"
   ]
  },
  {
   "cell_type": "code",
   "execution_count": 64,
   "id": "655b2729-ceea-49dc-8834-fd24b8406a53",
   "metadata": {},
   "outputs": [
    {
     "data": {
      "image/png": "[encoded data removed]",
      "text/plain": [
       "<Figure size 800x500 with 1 Axes>"
      ]
     },
     "metadata": {},
     "output_type": "display_data"
    }
   ],
   "source": [
    "# Top 10 Countries by Total Vaccinations\n",
    "top_vax = df2.groupby(\"country\")[\"total_vaccinations\"].max().nlargest(10)\n",
    "\n",
    "plt.figure(figsize=(8,5))\n",
    "plt.bar(top_vax.index, top_vax.values, color=\"orange\")\n",
    "plt.title(\"Top 10 Countries by Total Vaccinations\")\n",
    "plt.xlabel(\"Country\")\n",
    "plt.ylabel(\"Total Vaccinations\")\n",
    "plt.xticks(rotation=45)\n",
    "plt.show()\n",
    "\n"
   ]
  },
  {
   "cell_type": "code",
   "execution_count": 65,
   "id": "bca55153-19c3-40a6-89d0-0561d1513116",
   "metadata": {},
   "outputs": [
    {
     "data": {
      "image/png": "[encoded data removed]",
      "text/plain": [
       "<Figure size 600x600 with 1 Axes>"
      ]
     },
     "metadata": {},
     "output_type": "display_data"
    }
   ],
   "source": [
    "#pie chart\n",
    "top_full = df2.groupby(\"country\")[\"people_fully_vaccinated\"].max().nlargest(5)\n",
    "\n",
    "plt.figure(figsize=(6,6))\n",
    "plt.pie(top_full.values, labels=top_full.index)\n",
    "plt.title(\"Top 5 Countries by Fully Vaccinated People\")\n",
    "plt.show()\n"
   ]
  },
  {
   "cell_type": "code",
   "execution_count": 27,
   "id": "847e1086-6f7a-4c61-8d07-a2db2f6effc8",
   "metadata": {},
   "outputs": [
    {
     "data": {
      "image/png": "[encoded data removed]",
      "text/plain": [
       "<Figure size 700x400 with 1 Axes>"
      ]
     },
     "metadata": {},
     "output_type": "display_data"
    }
   ],
   "source": [
    "#Pie chart\n",
    "recovered = df.groupby('Country')['Recovered'].sum().sort_values(ascending=False).head(10)\n",
    "plt.figure(figsize=(7,4))\n",
    "plt.pie(recovered.values, labels=recovered.index)\n",
    "plt.title('Top 10 Countries by Recovered Cases')\n",
    "plt.show()\n",
    "\n"
   ]
  },
  {
   "cell_type": "code",
   "execution_count": 28,
   "id": "062f41ab-79f9-44e8-a455-abbda567c936",
   "metadata": {},
   "outputs": [
    {
     "data": {
      "image/png": "[encoded data removed]",
      "text/plain": [
       "<Figure size 640x480 with 1 Axes>"
      ]
     },
     "metadata": {},
     "output_type": "display_data"
    }
   ],
   "source": [
    "#Scatterplot\n",
    "top_deaths = df.groupby('Country')['Deaths'].sum().nlargest(10).reset_index()\n",
    "sns.scatterplot(x='Country', y='Deaths', data=top_deaths, color='red', s=100)\n",
    "plt.xticks(rotation=45)\n",
    "plt.title('Top 10 Countries with Most Deaths')\n",
    "plt.show()"
   ]
  },
  {
   "cell_type": "code",
   "execution_count": 29,
   "id": "05bbc990-c35d-4c38-9705-a6427fe2a2be",
   "metadata": {},
   "outputs": [
    {
     "data": {
      "image/png": "[encoded data removed]",
      "text/plain": [
       "<Figure size 640x480 with 1 Axes>"
      ]
     },
     "metadata": {},
     "output_type": "display_data"
    }
   ],
   "source": [
    "#Line plot\n",
    "top_confirmed=df.groupby('Country')['Confirmed'].sum().nlargest(10).reset_index()\n",
    "sns.lineplot(data=top_confirmed,x=\"Country\",y=\"Confirmed\")\n",
    "plt.title('Top 10 countries with most confirmed cases')\n",
    "plt.xticks(rotation=45)\n",
    "plt.show()"
   ]
  },
  {
   "cell_type": "code",
   "execution_count": 30,
   "id": "51ad7c21-79d0-4e7a-a3e0-b089393cbab3",
   "metadata": {},
   "outputs": [
    {
     "data": {
      "image/png": "[encoded data removed]",
      "text/plain": [
       "<Figure size 640x480 with 1 Axes>"
      ]
     },
     "metadata": {},
     "output_type": "display_data"
    }
   ],
   "source": [
    "#Box plot\n",
    "top10 = df.groupby(\"Country\")[\"Recovered\"].sum().nlargest(10).reset_index()\n",
    "top10_data = df.merge(top10[\"Country\"], on=\"Country\")\n",
    "sns.boxplot(x=\"Country\", y=\"Recovered\", data=top10_data)\n",
    "plt.xticks(rotation=45)\n",
    "plt.title(\"Top 10 Countries by Recovered Cases (Boxplot)\")\n",
    "plt.show()"
   ]
  },
  {
   "cell_type": "code",
   "execution_count": 33,
   "id": "cc0505fe-0ce9-43a2-b998-be732b994a05",
   "metadata": {},
   "outputs": [
    {
     "data": {
      "image/png": "[encoded data removed]",
      "text/plain": [
       "<Figure size 640x480 with 1 Axes>"
      ]
     },
     "metadata": {},
     "output_type": "display_data"
    }
   ],
   "source": [
    "#violin plot\n",
    "top5_confirmed = df.groupby(\"Country\")[\"Confirmed\"].sum().nlargest(5).reset_index()\n",
    "data_confirmed = df[df[\"Country\"].isin(top5_confirmed[\"Country\"])]\n",
    "sns.violinplot(x=\"Country\", y=\"Confirmed\", data=data_confirmed)\n",
    "plt.title(\"Distribution of Confirmed Cases (Top 5 Countries)\")\n",
    "plt.xticks(rotation=45)\n",
    "plt.show()"
   ]
  },
  {
   "cell_type": "markdown",
   "id": "e3fc13f2-96bf-431b-8a8c-743b7894e866",
   "metadata": {},
   "source": [
    "Conclusion"
   ]
  },
  {
   "cell_type": "markdown",
   "id": "ba151754-4bb0-44c1-a328-55f2c0400959",
   "metadata": {},
   "source": [
    "From the analysis of the COVID-19 dataset, we observed important global trends and country-wise differences. The data clearly shows that a few countries reported the highest number of confirmed cases, deaths, and recoveries. Visualizations such as line charts, scatter plots, boxplots, and violin plots helped us explore how the virus spread over time, compare the impact across countries, and understand the distribution of cases.\n",
    "\n",
    "Overall, this project highlights the importance of data analysis in tracking pandemics, identifying severely affected regions, and supporting decision-making for health policies."
   ]
  },
  {
   "cell_type": "code",
   "execution_count": null,
   "id": "da1a6d37-8eb9-40be-83f6-1ccc594c83ef",
   "metadata": {},
   "outputs": [],
   "source": []
  }
 ],
 "metadata": {
  "kernelspec": {
   "display_name": "Python 3 (ipykernel)",
   "language": "python",
   "name": "python3"
  },
  "language_info": {
   "codemirror_mode": {
    "name": "ipython",
    "version": 3
   },
   "file_extension": ".py",
   "mimetype": "text/x-python",
   "name": "python",
   "nbconvert_exporter": "python",
   "pygments_lexer": "ipython3",
   "version": "3.13.6"
  }
 },
 "nbformat": 4,
 "nbformat_minor": 5
}
